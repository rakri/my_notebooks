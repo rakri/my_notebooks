{
 "cells": [
  {
   "cell_type": "code",
   "execution_count": 2,
   "metadata": {},
   "outputs": [
    {
     "name": "stdout",
     "output_type": "stream",
     "text": [
      "Failed with status code: 404\n",
      "{\"error\":{\"code\":\"404\",\"message\": \"Resource not found\"}}\n"
     ]
    }
   ],
   "source": [
    "import requests\n",
    "from azure.identity import DefaultAzureCredential\n",
    "\n",
    "# Replace with your endpoint URL\n",
    "endpoint = \"https://filteredsearch8953814197.openai.azure.com/openai/deployments/text-embedding-3-small/embeddings?api-version=2023-05-15\"\n",
    "\n",
    "# Get the access token\n",
    "credential = DefaultAzureCredential()\n",
    "token = credential.get_token(\"https://management.azure.com/.default\")\n",
    "\n",
    "# Set up the headers with the access token\n",
    "headers = {\n",
    "    \"Authorization\": f\"Bearer {token.token}\",\n",
    "    \"Content-Type\": \"application/json\"\n",
    "}\n",
    "\n",
    "# Make a GET request to the endpoint\n",
    "response = requests.get(endpoint, headers=headers)\n",
    "\n",
    "# Check the response\n",
    "if response.status_code == 200:\n",
    "    print(\"Success!\")\n",
    "    print(response.json())\n",
    "else:\n",
    "    print(f\"Failed with status code: {response.status_code}\")\n",
    "    print(response.text)\n"
   ]
  }
 ],
 "metadata": {
  "kernelspec": {
   "display_name": "Python 3 (ipykernel)",
   "language": "python",
   "name": "python3"
  },
  "language_info": {
   "codemirror_mode": {
    "name": "ipython",
    "version": 3
   },
   "file_extension": ".py",
   "mimetype": "text/x-python",
   "name": "python",
   "nbconvert_exporter": "python",
   "pygments_lexer": "ipython3",
   "version": "3.10.12"
  }
 },
 "nbformat": 4,
 "nbformat_minor": 2
}
